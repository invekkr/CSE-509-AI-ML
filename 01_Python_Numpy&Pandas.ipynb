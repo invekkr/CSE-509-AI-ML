{
 "cells": [
  {
   "cell_type": "markdown",
   "id": "8b62e2ac",
   "metadata": {},
   "source": [
    "# 📌 NumPy in Python\n",
    "\n",
    "## 🔹 What is NumPy?\n",
    "- **NumPy** stands for **Numerical Python**.  \n",
    "- It is a **Python library** used for numerical and scientific computing.  \n",
    "- Provides a **powerful N-dimensional array object** (`ndarray`) that is much faster and more memory-efficient than Python’s built-in lists.  \n",
    "\n",
    "---\n",
    "\n",
    "## 🔹 Why do we use NumPy?\n",
    "Python lists are flexible, but they are **slow for numerical calculations** because:\n",
    "- Each element is stored as a separate Python object (extra overhead).\n",
    "- Mathematical operations require manual looping.\n",
    "\n",
    "NumPy solves these issues by:\n",
    "1. **Fast arrays** → Data stored in contiguous memory blocks (like C arrays).  \n",
    "2. **Vectorized operations** → Perform operations on whole arrays without writing loops.  \n",
    "   ```python\n",
    "   import numpy as np\n",
    "   \n",
    "   a = np.array([1, 2, 3, 4])\n",
    "   b = np.array([5, 6, 7, 8])\n",
    "\n",
    "   print(a + b)   # [ 6  8 10 12 ]\n",
    "   print(a * b)   # [ 5 12 21 32 ]\n",
    "    \n",
    "3. **Mathematical functions** →Linear algebra, statistics, random numbers, Fourier transforms, etc3.  \n",
    "4. **Integration with other libraries** → Pandas, Scikit-learn, TensorFlow, PyTorch all use NumPy internally.  "
   ]
  },
  {
   "cell_type": "code",
   "execution_count": null,
   "id": "e4cf18fb",
   "metadata": {},
   "outputs": [],
   "source": []
  }
 ],
 "metadata": {
  "kernelspec": {
   "display_name": "Python 3 (ipykernel)",
   "language": "python",
   "name": "python3"
  },
  "language_info": {
   "codemirror_mode": {
    "name": "ipython",
    "version": 3
   },
   "file_extension": ".py",
   "mimetype": "text/x-python",
   "name": "python",
   "nbconvert_exporter": "python",
   "pygments_lexer": "ipython3",
   "version": "3.10.0"
  }
 },
 "nbformat": 4,
 "nbformat_minor": 5
}
