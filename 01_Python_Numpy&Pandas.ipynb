{
 "cells": [
  {
   "cell_type": "markdown",
   "id": "22df1f40",
   "metadata": {},
   "source": [
    "# 📌 NumPy in Python\n",
    "\n",
    "## 🔹 What is NumPy?\n",
    "- **NumPy** stands for **Numerical Python**.  \n",
    "- It is a **Python library** used for numerical and scientific computing.  \n",
    "- Provides a **powerful N-dimensional array object** (`ndarray`) that is much faster and more memory-efficient than Python’s built-in lists.  \n",
    "\n",
    "---\n",
    "\n",
    "## 🔹 Why do we use NumPy?\n",
    "Python lists are flexible, but they are **slow for numerical calculations** because:\n",
    "- Each element is stored as a separate Python object (extra overhead).\n",
    "- Mathematical operations require manual looping.\n",
    "\n",
    "NumPy solves these issues by:\n",
    "1. **Fast arrays** → Data stored in contiguous memory blocks (like C arrays).  \n",
    "2. **Vectorized operations** → Perform operations on whole arrays without writing loops.  \n",
    "   ```python\n",
    "   import numpy as np\n",
    "   \n",
    "   a = np.array([1, 2, 3, 4])\n",
    "   b = np.array([5, 6, 7, 8])\n",
    "\n",
    "   print(a + b)   # [ 6  8 10 12 ]\n",
    "   print(a * b)   # [ 5 12 21 32 ]\n",
    "    \n",
    "3. **Mathematical functions** →Linear algebra, statistics, random numbers, Fourier transforms, etc3.  \n",
    "4. **Integration with other libraries** → Pandas, Scikit-learn, TensorFlow, PyTorch all use NumPy internally.  "
   ]
  },
  {
   "cell_type": "code",
   "execution_count": 15,
   "id": "50c4f0a5",
   "metadata": {},
   "outputs": [],
   "source": [
    "import numpy as np"
   ]
  },
  {
   "cell_type": "code",
   "execution_count": 17,
   "id": "b772f3e0",
   "metadata": {},
   "outputs": [],
   "source": [
    "cars = np.array(['Audi','BMW','Tesla','Toyota'])"
   ]
  },
  {
   "cell_type": "code",
   "execution_count": 18,
   "id": "3ba91c12",
   "metadata": {},
   "outputs": [
    {
     "name": "stdout",
     "output_type": "stream",
     "text": [
      "['Audi' 'BMW' 'Tesla' 'Toyota']\n"
     ]
    }
   ],
   "source": [
    "print(cars)"
   ]
  },
  {
   "cell_type": "code",
   "execution_count": 19,
   "id": "7f21aafa",
   "metadata": {},
   "outputs": [
    {
     "data": {
      "text/plain": [
       "numpy.ndarray"
      ]
     },
     "execution_count": 19,
     "metadata": {},
     "output_type": "execute_result"
    }
   ],
   "source": [
    "type(cars)"
   ]
  },
  {
   "cell_type": "code",
   "execution_count": 20,
   "id": "e3d556c0",
   "metadata": {},
   "outputs": [
    {
     "data": {
      "text/plain": [
       "'Audi'"
      ]
     },
     "execution_count": 20,
     "metadata": {},
     "output_type": "execute_result"
    }
   ],
   "source": [
    "cars[0]"
   ]
  },
  {
   "cell_type": "code",
   "execution_count": 21,
   "id": "6190d99d",
   "metadata": {},
   "outputs": [],
   "source": [
    "x = np.array([7,8,9])\n",
    "y = np.array([.5,.7,.6])"
   ]
  },
  {
   "cell_type": "code",
   "execution_count": 23,
   "id": "a46ff99e",
   "metadata": {},
   "outputs": [
    {
     "data": {
      "text/plain": [
       "14.5"
      ]
     },
     "execution_count": 23,
     "metadata": {},
     "output_type": "execute_result"
    }
   ],
   "source": [
    "np.dot(x,y)"
   ]
  },
  {
   "cell_type": "code",
   "execution_count": 24,
   "id": "13788ad1",
   "metadata": {},
   "outputs": [
    {
     "data": {
      "text/plain": [
       "array([3.5, 5.6, 5.4])"
      ]
     },
     "execution_count": 24,
     "metadata": {},
     "output_type": "execute_result"
    }
   ],
   "source": [
    "x*y"
   ]
  },
  {
   "cell_type": "code",
   "execution_count": null,
   "id": "7cd4ddb6",
   "metadata": {},
   "outputs": [],
   "source": []
  }
 ],
 "metadata": {
  "kernelspec": {
   "display_name": "Python 3 (ipykernel)",
   "language": "python",
   "name": "python3"
  },
  "language_info": {
   "codemirror_mode": {
    "name": "ipython",
    "version": 3
   },
   "file_extension": ".py",
   "mimetype": "text/x-python",
   "name": "python",
   "nbconvert_exporter": "python",
   "pygments_lexer": "ipython3",
   "version": "3.10.0"
  }
 },
 "nbformat": 4,
 "nbformat_minor": 5
}
